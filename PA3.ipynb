{
 "cells": [
  {
   "cell_type": "markdown",
   "metadata": {},
   "source": [
    "# First 5 and Last 5"
   ]
  },
  {
   "cell_type": "code",
   "execution_count": null,
   "metadata": {},
   "outputs": [],
   "source": [
    "import pandas as pd #Importing Pandas Library \n",
    "\n",
    "#Read and Import cars.csv \n",
    "\n",
    "cars = pd.read_csv('cars.csv')\n",
    "\n",
    "# Find the First 5 Data using .head() and Last 5 Data using .tail()\n",
    "\n",
    "Head = cars.head(5)\n",
    "Tail = cars.tail(5)\n",
    "\n",
    "Divider = \"=\" * 80\n",
    "\n",
    "Head, Divider, Tail\n",
    "\n"
   ]
  },
  {
   "cell_type": "markdown",
   "metadata": {},
   "source": [
    "# Model, Cylinders  and Gear"
   ]
  },
  {
   "cell_type": "code",
   "execution_count": null,
   "metadata": {},
   "outputs": [],
   "source": [
    "import pandas as pd  # Importing Pandas Library \n",
    "\n",
    "# Read and import cars.csv\n",
    "cavfile = pd.read_csv('cars.csv')\n",
    "\n",
    "# Display first 5 Odd-Numbered Columns\n",
    "\n",
    "oddhead = cavfile.iloc[1::2] # Using .iloc[1::2], Starting at Index 1 and Slices 2\n",
    "print(\"First 5 Rows with Odd-Numbered Columns:\")\n",
    "print(oddhead.head(5))  # Display the first 5 rows of the filtered DataFrame\n",
    "\n",
    "# Find the row where the \"Model\" is \"Mazda RX4\"\n",
    "\n",
    "Mazda = cavfile[cavfile['Model'] == 'Mazda RX4']\n",
    "print(\"\\nRow with Model 'Mazda RX4':\")\n",
    "print(Mazda)\n",
    "\n",
    "# Find Number of Cylinders for Camaro Z28\n",
    "\n",
    "Cylinder = cavfile.loc[cavfile['Model'] == 'Camaro Z28', 'cyl'].values[0]\n",
    "print(\"\\nNumber of cylinders for 'Camaro Z28':\", Cylinder)\n",
    "\n",
    "# Give Models to Filter, then put Models into DataFrame \n",
    "\n",
    "models = ['Mazda RX4 Wag', 'Ford Pantera L', 'Honda Civic']\n",
    "cars = cavfile[cavfile['Model'].isin(models)]\n",
    "\n",
    "# Select and Print cyl and gear Columns for Model\n",
    "\n",
    "result = cars[['Model', 'cyl', 'gear']]\n",
    "print(\"\\nNumber of cylinders and gear type for selected models:\")\n",
    "print(result)\n"
   ]
  },
  {
   "cell_type": "code",
   "execution_count": null,
   "metadata": {},
   "outputs": [],
   "source": []
  }
 ],
 "metadata": {
  "kernelspec": {
   "display_name": "base",
   "language": "python",
   "name": "python3"
  },
  "language_info": {
   "codemirror_mode": {
    "name": "ipython",
    "version": 3
   },
   "file_extension": ".py",
   "mimetype": "text/x-python",
   "name": "python",
   "nbconvert_exporter": "python",
   "pygments_lexer": "ipython3",
   "version": "3.12.4"
  }
 },
 "nbformat": 4,
 "nbformat_minor": 2
}
