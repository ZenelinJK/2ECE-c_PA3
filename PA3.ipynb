{
 "cells": [
  {
   "cell_type": "markdown",
   "metadata": {},
   "source": [
    "# First 5 and Last 5"
   ]
  },
  {
   "cell_type": "code",
   "execution_count": 2,
   "metadata": {},
   "outputs": [
    {
     "data": {
      "text/plain": [
       "(               Model   mpg  cyl   disp   hp  drat     wt   qsec  vs  am  gear  \\\n",
       " 0          Mazda RX4  21.0    6  160.0  110  3.90  2.620  16.46   0   1     4   \n",
       " 1      Mazda RX4 Wag  21.0    6  160.0  110  3.90  2.875  17.02   0   1     4   \n",
       " 2         Datsun 710  22.8    4  108.0   93  3.85  2.320  18.61   1   1     4   \n",
       " 3     Hornet 4 Drive  21.4    6  258.0  110  3.08  3.215  19.44   1   0     3   \n",
       " 4  Hornet Sportabout  18.7    8  360.0  175  3.15  3.440  17.02   0   0     3   \n",
       " \n",
       "    carb  \n",
       " 0     4  \n",
       " 1     4  \n",
       " 2     1  \n",
       " 3     1  \n",
       " 4     2  ,\n",
       " '================================================================================',\n",
       "              Model   mpg  cyl   disp   hp  drat     wt  qsec  vs  am  gear  \\\n",
       " 27    Lotus Europa  30.4    4   95.1  113  3.77  1.513  16.9   1   1     5   \n",
       " 28  Ford Pantera L  15.8    8  351.0  264  4.22  3.170  14.5   0   1     5   \n",
       " 29    Ferrari Dino  19.7    6  145.0  175  3.62  2.770  15.5   0   1     5   \n",
       " 30   Maserati Bora  15.0    8  301.0  335  3.54  3.570  14.6   0   1     5   \n",
       " 31      Volvo 142E  21.4    4  121.0  109  4.11  2.780  18.6   1   1     4   \n",
       " \n",
       "     carb  \n",
       " 27     2  \n",
       " 28     4  \n",
       " 29     6  \n",
       " 30     8  \n",
       " 31     2  )"
      ]
     },
     "execution_count": 2,
     "metadata": {},
     "output_type": "execute_result"
    }
   ],
   "source": [
    "import pandas as pd #Importing Pandas Library \n",
    "\n",
    "#Read and Import cars.csv \n",
    "\n",
    "cars = pd.read_csv('cars.csv')\n",
    "\n",
    "# Find the First 5 Data using .head() and Last 5 Data using .tail()\n",
    "\n",
    "Head = cars.head(5)\n",
    "Tail = cars.tail(5)\n",
    "\n",
    "Divider = \"=\" * 80\n",
    "\n",
    "Head, Divider, Tail\n",
    "\n"
   ]
  },
  {
   "cell_type": "markdown",
   "metadata": {},
   "source": [
    "# Model, Cylinders  and Gear"
   ]
  },
  {
   "cell_type": "code",
   "execution_count": 7,
   "metadata": {},
   "outputs": [
    {
     "name": "stdout",
     "output_type": "stream",
     "text": [
      "First 5 Rows with Odd-Numbered Columns:\n",
      "            Model   mpg  cyl   disp   hp  drat     wt   qsec  vs  am  gear  \\\n",
      "1   Mazda RX4 Wag  21.0    6  160.0  110  3.90  2.875  17.02   0   1     4   \n",
      "3  Hornet 4 Drive  21.4    6  258.0  110  3.08  3.215  19.44   1   0     3   \n",
      "5         Valiant  18.1    6  225.0  105  2.76  3.460  20.22   1   0     3   \n",
      "7       Merc 240D  24.4    4  146.7   62  3.69  3.190  20.00   1   0     4   \n",
      "9        Merc 280  19.2    6  167.6  123  3.92  3.440  18.30   1   0     4   \n",
      "\n",
      "   carb  \n",
      "1     4  \n",
      "3     1  \n",
      "5     1  \n",
      "7     2  \n",
      "9     4  \n",
      "\n",
      "Row with Model 'Mazda RX4':\n",
      "       Model   mpg  cyl   disp   hp  drat    wt   qsec  vs  am  gear  carb\n",
      "0  Mazda RX4  21.0    6  160.0  110   3.9  2.62  16.46   0   1     4     4\n",
      "\n",
      "Number of cylinders for 'Camaro Z28': 8\n",
      "\n",
      "Number of cylinders and gear type for selected models:\n",
      "             Model  cyl  gear\n",
      "1    Mazda RX4 Wag    6     4\n",
      "18     Honda Civic    4     4\n",
      "28  Ford Pantera L    8     5\n"
     ]
    }
   ],
   "source": [
    "import pandas as pd  # Importing Pandas Library \n",
    "\n",
    "# Read and import cars.csv\n",
    "cavfile = pd.read_csv('cars.csv')\n",
    "\n",
    "# Display first 5 Odd-Numbered Columns\n",
    "\n",
    "oddhead = cavfile.iloc[1::2] # Using .iloc[1::2], Starting at Index 1 and Slices 2\n",
    "print(\"First 5 Rows with Odd-Numbered Columns:\")\n",
    "print(oddhead.head(5))  # Display the first 5 rows of the filtered DataFrame\n",
    "\n",
    "# Find the row where the \"Model\" is \"Mazda RX4\"\n",
    "\n",
    "Mazda = cavfile[cavfile['Model'] == 'Mazda RX4']\n",
    "print(\"\\nRow with Model 'Mazda RX4':\")\n",
    "print(Mazda)\n",
    "\n",
    "# Find Number of Cylinders for Camaro Z28\n",
    "\n",
    "Cylinder = cavfile.loc[cavfile['Model'] == 'Camaro Z28', 'cyl'].values[0]\n",
    "print(\"\\nNumber of cylinders for 'Camaro Z28':\", Cylinder)\n",
    "\n",
    "# Give Models to Filter, the  DataFrame for these models\n",
    "\n",
    "models = ['Mazda RX4 Wag', 'Ford Pantera L', 'Honda Civic']\n",
    "filtered_models = cavfile[cavfile['Model'].isin(models)]\n",
    "\n",
    "# Select and print 'cyl' and 'gear' columns for the filtered models\n",
    "result = filtered_models[['Model', 'cyl', 'gear']]\n",
    "print(\"\\nNumber of cylinders and gear type for selected models:\")\n",
    "print(result)\n"
   ]
  },
  {
   "cell_type": "code",
   "execution_count": null,
   "metadata": {},
   "outputs": [],
   "source": []
  }
 ],
 "metadata": {
  "kernelspec": {
   "display_name": "base",
   "language": "python",
   "name": "python3"
  },
  "language_info": {
   "codemirror_mode": {
    "name": "ipython",
    "version": 3
   },
   "file_extension": ".py",
   "mimetype": "text/x-python",
   "name": "python",
   "nbconvert_exporter": "python",
   "pygments_lexer": "ipython3",
   "version": "3.12.4"
  }
 },
 "nbformat": 4,
 "nbformat_minor": 2
}
